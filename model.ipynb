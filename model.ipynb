{
 "cells": [
  {
   "cell_type": "code",
   "execution_count": 1,
   "metadata": {},
   "outputs": [
    {
     "name": "stderr",
     "output_type": "stream",
     "text": [
      "Using TensorFlow backend.\n"
     ]
    }
   ],
   "source": [
    "import numpy as np\n",
    "import math\n",
    "import h5py\n",
    "import keras\n",
    "import matplotlib.pyplot as plt\n",
    "from keras.models import Sequential\n",
    "from keras.layers import Conv2D, Input, BatchNormalization\n",
    "from keras.callbacks import ModelCheckpoint,EarlyStopping\n",
    "from keras.optimizers import SGD, Adam"
   ]
  },
  {
   "cell_type": "code",
   "execution_count": 2,
   "metadata": {
    "code_folding": [
     0
    ]
   },
   "outputs": [],
   "source": [
    "# write a LossHistory Class to record loss and accuracy.\n",
    "class LossHistory(keras.callbacks.Callback):\n",
    "    \n",
    "    def on_train_begin(self, logs = {}):\n",
    "        self.losses = {'batch': [], 'epoch': []}\n",
    "        self.val_loss = {'batch': [], 'epoch': []}\n",
    "        \n",
    "    def on_batch_end(self, batch, logs = {}):\n",
    "        self.losses['batch'].append(logs.get('loss'))\n",
    "        self.val_loss['batch'].append(logs.get('val_loss'))\n",
    "        \n",
    "    def on_epoch_end(self, batch, logs = {}):\n",
    "        self.losses['epoch'].append(logs.get('loss'))\n",
    "        self.val_loss['epoch'].append(logs.get('val_loss'))\n",
    "        \n",
    "    def loss_plot(self, loss_type):\n",
    "        \n",
    "        iters = range(len(self.losses[loss_type]))\n",
    "        \n",
    "        plt.figure()\n",
    "        plt.plot(iters, self.losses[loss_type], 'g', label = 'train loss')\n",
    "        \n",
    "        if loss_type == 'epoch':\n",
    "            # acc\n",
    "            plt.plot(iters, self.accuracy[loss_type], 'r', label = 'train acc')\n",
    "            # loss\n",
    "            plt.plot(iters, self.losses[loss_type], 'g', label = 'train loss')\n",
    "            # val_acc\n",
    "            plt.plot(iters, self.val_acc[loss_type], 'b', label = 'val acc')\n",
    "            # val_loss\n",
    "            plt.plot(iters, self.val_loss[loss_type], 'k', label = 'val loss')\n",
    "            \n",
    "        plt.grid(True)\n",
    "        plt.xlabel(loss_type)\n",
    "        plt.ylabel('loss')\n",
    "        plt.legend(loc = 'upper right')\n",
    "        plt.show()"
   ]
  },
  {
   "cell_type": "markdown",
   "metadata": {},
   "source": [
    "# Train Model"
   ]
  },
  {
   "cell_type": "code",
   "execution_count": 3,
   "metadata": {
    "code_folding": []
   },
   "outputs": [],
   "source": [
    "SRCNN = Sequential()\n",
    "SRCNN.add(\n",
    "    Conv2D(\n",
    "        filters = 256,\n",
    "        kernel_size = (9, 9),\n",
    "        padding = 'valid',\n",
    "        activation = 'relu',\n",
    "        use_bias = True,\n",
    "        kernel_initializer = 'glorot_uniform',\n",
    "        input_shape = (None, None, 1)))\n",
    "SRCNN.add(\n",
    "    Conv2D(\n",
    "        filters = 128,\n",
    "        kernel_size = (3, 3),\n",
    "        padding = 'same',\n",
    "        activation = 'relu',\n",
    "        use_bias = True,\n",
    "        kernel_initializer = 'glorot_uniform'))\n",
    "SRCNN.add(\n",
    "    Conv2D(\n",
    "        filters = 256,\n",
    "        kernel_size = (1, 1),\n",
    "        padding = 'same',\n",
    "        activation = 'relu',\n",
    "        use_bias = True,\n",
    "        kernel_initializer = 'glorot_uniform'))\n",
    "SRCNN.add(\n",
    "    Conv2D(\n",
    "        filters = 1,\n",
    "        kernel_size = (5, 5),\n",
    "        padding = 'valid',\n",
    "        use_bias = True,\n",
    "        kernel_initializer = 'glorot_uniform'))\n",
    "adam = Adam(lr = 0.001)\n",
    "SRCNN.compile(optimizer = adam, loss = 'mean_squared_error', metrics = ['mean_squared_error'])"
   ]
  },
  {
   "cell_type": "code",
   "execution_count": 4,
   "metadata": {},
   "outputs": [],
   "source": [
    "def read_training_data(file):\n",
    "    with h5py.File(file, 'r') as hf:\n",
    "        data = numpy.array(hf.get('data'))\n",
    "        label = numpy.array(hf.get('label'))\n",
    "        return data, label"
   ]
  },
  {
   "cell_type": "code",
   "execution_count": 5,
   "metadata": {},
   "outputs": [
    {
     "name": "stdout",
     "output_type": "stream",
     "text": [
      "_________________________________________________________________\n",
      "Layer (type)                 Output Shape              Param #   \n",
      "=================================================================\n",
      "conv2d_1 (Conv2D)            (None, None, None, 256)   20992     \n",
      "_________________________________________________________________\n",
      "conv2d_2 (Conv2D)            (None, None, None, 128)   295040    \n",
      "_________________________________________________________________\n",
      "conv2d_3 (Conv2D)            (None, None, None, 256)   33024     \n",
      "_________________________________________________________________\n",
      "conv2d_4 (Conv2D)            (None, None, None, 1)     6401      \n",
      "=================================================================\n",
      "Total params: 355,457\n",
      "Trainable params: 355,457\n",
      "Non-trainable params: 0\n",
      "_________________________________________________________________\n",
      "None\n"
     ]
    }
   ],
   "source": [
    "print(SRCNN.summary())"
   ]
  },
  {
   "cell_type": "code",
   "execution_count": 6,
   "metadata": {},
   "outputs": [],
   "source": [
    "data,label = read_training_data(\"./doc/crop_train.h5\")"
   ]
  },
  {
   "cell_type": "code",
   "execution_count": 7,
   "metadata": {},
   "outputs": [
    {
     "name": "stdout",
     "output_type": "stream",
     "text": [
      "Epoch 1/6\n",
      "1510912/1510997 [============================>.] - ETA: 0s - loss: 0.0025 - mean_squared_error: 0.0025Epoch 00001: loss improved from inf to 0.00251, saving model to SRCNN_check.h5\n",
      "1510997/1510997 [==============================] - 316s 209us/step - loss: 0.0025 - mean_squared_error: 0.0025\n",
      "Epoch 2/6\n",
      "1510912/1510997 [============================>.] - ETA: 0s - loss: 0.0022 - mean_squared_error: 0.0022Epoch 00002: loss improved from 0.00251 to 0.00217, saving model to SRCNN_check.h5\n",
      "1510997/1510997 [==============================] - 313s 207us/step - loss: 0.0022 - mean_squared_error: 0.0022\n",
      "Epoch 3/6\n",
      "1510912/1510997 [============================>.] - ETA: 0s - loss: 0.0021 - mean_squared_error: 0.0021Epoch 00003: loss improved from 0.00217 to 0.00212, saving model to SRCNN_check.h5\n",
      "1510997/1510997 [==============================] - 312s 207us/step - loss: 0.0021 - mean_squared_error: 0.0021\n",
      "Epoch 4/6\n",
      "1510912/1510997 [============================>.] - ETA: 0s - loss: 0.0021 - mean_squared_error: 0.0021Epoch 00004: loss improved from 0.00212 to 0.00209, saving model to SRCNN_check.h5\n",
      "1510997/1510997 [==============================] - 312s 207us/step - loss: 0.0021 - mean_squared_error: 0.0021\n",
      "Epoch 5/6\n",
      "1510912/1510997 [============================>.] - ETA: 0s - loss: 0.0021 - mean_squared_error: 0.0021Epoch 00005: loss did not improve\n",
      "1510997/1510997 [==============================] - 312s 207us/step - loss: 0.0021 - mean_squared_error: 0.0021\n",
      "Epoch 6/6\n",
      "1510912/1510997 [============================>.] - ETA: 0s - loss: 0.0021 - mean_squared_error: 0.0021Epoch 00006: loss improved from 0.00209 to 0.00208, saving model to SRCNN_check.h5\n",
      "1510997/1510997 [==============================] - 312s 207us/step - loss: 0.0021 - mean_squared_error: 0.0021\n"
     ]
    },
    {
     "data": {
      "text/plain": [
       "<keras.callbacks.History at 0x7f81f1984c88>"
      ]
     },
     "execution_count": 7,
     "metadata": {},
     "output_type": "execute_result"
    }
   ],
   "source": [
    "checkpoint = ModelCheckpoint(\n",
    "    \"SRCNN_check.h5\",\n",
    "    monitor='loss',\n",
    "    verbose=1,\n",
    "    save_best_only=True,\n",
    "    save_weights_only=False,\n",
    "    mode='min')\n",
    "earlystop=EarlyStopping(monitor='loss',patience=3)\n",
    "history=LossHistory()\n",
    "callbacks_list = [checkpoint,earlystop,history]\n",
    "SRCNN.fit(\n",
    "    data,\n",
    "    label,\n",
    "    batch_size=256,\n",
    "    callbacks=callbacks_list,\n",
    "    shuffle=True,\n",
    "    epochs=6)"
   ]
  },
  {
   "cell_type": "code",
   "execution_count": 8,
   "metadata": {},
   "outputs": [
    {
     "data": {
      "image/png": "[encoded data removed]",
      "text/plain": [
       "<Figure size 432x288 with 1 Axes>"
      ]
     },
     "metadata": {},
     "output_type": "display_data"
    }
   ],
   "source": [
    "history.loss_plot('batch')\n",
    "plt.show()"
   ]
  },
  {
   "cell_type": "markdown",
   "metadata": {},
   "source": [
    "# Predict test"
   ]
  },
  {
   "cell_type": "code",
   "execution_count": 4,
   "metadata": {},
   "outputs": [],
   "source": [
    "from keras.models import  load_model\n",
    "import numpy\n",
    "SRCNN=load_model('./doc/SRCNN_check.h5')"
   ]
  },
  {
   "cell_type": "code",
   "execution_count": 7,
   "metadata": {},
   "outputs": [
    {
     "name": "stdout",
     "output_type": "stream",
     "text": [
      "(215, 284, 3)\n",
      "(1, 418, 556, 1)\n",
      "(430, 568, 3)\n"
     ]
    },
    {
     "data": {
      "text/plain": [
       "True"
      ]
     },
     "execution_count": 7,
     "metadata": {},
     "output_type": "execute_result"
    }
   ],
   "source": [
    "import cv2\n",
    "LR_IMG_NAME='./data/train_set/LR/img_0001.jpg'\n",
    "HR_IMG_NAME='./data/train_set/HR/img_0001.jpg'\n",
    "OUTPUT_NAME='./output/test.jpg'\n",
    "img = cv2.imread(LR_IMG_NAME)\n",
    "print(img.shape)\n",
    "shape=img.shape\n",
    "img=cv2.resize(img,(shape[1]*2,shape[0]*2),cv2.INTER_CUBIC)\n",
    "cv2.imwrite('./output/resized.jpg',img)\n",
    "img = cv2.cvtColor(img, cv2.COLOR_BGR2YCrCb)\n",
    "X = numpy.zeros((1, img.shape[0], img.shape[1], 1), dtype=float)\n",
    "X[0, :, :, 0] = img[:,:,0].astype(float) /255.\n",
    "pre = SRCNN.predict(X, batch_size=1)*255.\n",
    "print(pre.shape)\n",
    "pre[pre[:] > 255] = 255\n",
    "pre[pre[:] < 0] = 0\n",
    "pre = pre.astype(numpy.uint8)\n",
    "img[6: -6, 6: -6, 0] = pre[0, :, :, 0]\n",
    "img = cv2.cvtColor(img, cv2.COLOR_YCrCb2BGR)\n",
    "print(img.shape)\n",
    "cv2.imwrite(OUTPUT_NAME, img)\n",
    "cv2.imwrite('./output/hr.jpg',cv2.imread(HR_IMG_NAME))"
   ]
  },
  {
   "cell_type": "markdown",
   "metadata": {},
   "source": [
    "# Predict all images"
   ]
  },
  {
   "cell_type": "code",
   "execution_count": null,
   "metadata": {},
   "outputs": [],
   "source": [
    "def get_all_results(filepath):\n",
    "    for file in os.listdir(filepath):\n",
    "        if not os.path.exists('./SRCNN_predicted'):\n",
    "            os.makedirs('./SRCNN_predicted')\n",
    "        OUPUT_dir='./SRCNN_predicted'\n",
    "        LR_IMG_NAME=os.path.join(filepath,file)\n",
    "        OUTPUT_NAME=os.path.join(OUPUT_dir,file)\n",
    "        img = cv2.imread(LR_IMG_NAME)\n",
    "#         print(img.shape)\n",
    "        shape=img.shape\n",
    "        img=cv2.resize(img,(shape[1]*2,shape[0]*2),cv2.INTER_CUBIC)\n",
    "#         cv2.imwrite('./resized.jpg',img)\n",
    "        img = cv2.cvtColor(img, cv2.COLOR_BGR2YCrCb)\n",
    "        X = numpy.zeros((1, img.shape[0], img.shape[1], 1), dtype=float)\n",
    "        X[0, :, :, 0] = img[:,:,0].astype(float) /255.\n",
    "        pre = SRCNN.predict(X, batch_size=1)*255.\n",
    "#         print(pre.shape)\n",
    "        pre[pre[:] > 255] = 255\n",
    "        pre[pre[:] < 0] = 0\n",
    "        pre = pre.astype(numpy.uint8)\n",
    "        img[6: -6, 6: -6, 0] = pre[0, :, :, 0]\n",
    "        img = cv2.cvtColor(img, cv2.COLOR_YCrCb2BGR)\n",
    "#         print(img.shape)\n",
    "        cv2.imwrite(OUTPUT_NAME, img)\n",
    "    print('Super Resolution completed')"
   ]
  },
  {
   "cell_type": "code",
   "execution_count": null,
   "metadata": {},
   "outputs": [],
   "source": [
    "get_all_results(filepath='./train_set/LR/')"
   ]
  }
 ],
 "metadata": {
  "kernelspec": {
   "display_name": "Python 3",
   "language": "python",
   "name": "python3"
  },
  "language_info": {
   "codemirror_mode": {
    "name": "ipython",
    "version": 3
   },
   "file_extension": ".py",
   "mimetype": "text/x-python",
   "name": "python",
   "nbconvert_exporter": "python",
   "pygments_lexer": "ipython3",
   "version": "3.7.1"
  },
  "toc": {
   "base_numbering": 1,
   "nav_menu": {},
   "number_sections": true,
   "sideBar": true,
   "skip_h1_title": false,
   "title_cell": "Table of Contents",
   "title_sidebar": "Contents",
   "toc_cell": false,
   "toc_position": {},
   "toc_section_display": true,
   "toc_window_display": false
  }
 },
 "nbformat": 4,
 "nbformat_minor": 2
}
